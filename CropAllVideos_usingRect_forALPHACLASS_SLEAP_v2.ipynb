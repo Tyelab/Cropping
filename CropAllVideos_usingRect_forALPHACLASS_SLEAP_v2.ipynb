{
 "cells": [
  {
   "cell_type": "code",
   "execution_count": 2,
   "id": "8ca9fa1f",
   "metadata": {},
   "outputs": [],
   "source": [
    "from moviepy.editor import VideoFileClip, concatenate_videoclips, vfx\n",
    "import moviepy\n",
    "import os\n",
    "import cv2\n",
    "import pims\n",
    "import numpy as np\n",
    "from pathlib import Path"
   ]
  },
  {
   "cell_type": "code",
   "execution_count": 14,
   "id": "0c5b92e6",
   "metadata": {},
   "outputs": [],
   "source": [
    "#videofile='\\\\snlkt-syn\\\\Vol1\\\\Nancy\\\\BLA medpc and videos\\\\Videos\\\\BLA3-4\\\\Competitions\\20210219_BLA4_3v4_Competition_Phototagging_Box1.mp4'\n",
    "#videofile = 'Z:\\\\Caroline\\\\1.Social Pain\\\\!!Pilot\\\\4.InscopixImaging-CeA_AI\\\\Inscopix\\\\FOMO\\\\Videos\\\\Cage4-M1-fomoday1-recopied.mp4'\n",
    "#videofile = 'X:\\\\Caroline\\\\Alphatracker\\\\fomo_light\\\\cage4M2-video1-fomolight.mp4'\n",
    "# root = \"W:\\\\Caroline\\\\1.SocialPain\\\\7.AllALPHACLASS_SLEAP\\\\AllVideos\\\\Cage46-48\\\\Step1-Codec\\\\\"\n",
    "#root = \"//snlkt//data//Caroline//1.SocialPain//7.AllALPHACLASS_SLEAP//AllVideos//Cage46-48//To_testcrop//\"\n",
    "root= Path('/snlkt/data/Caroline/2.TRANSFERS_2OTHERS/Caroline_forJianna/practicevideos/')\n",
    "\n",
    "video_list = [video for video in root.glob(\"*mkv\")]"
   ]
  },
  {
   "cell_type": "code",
   "execution_count": 19,
   "id": "de510bef",
   "metadata": {},
   "outputs": [
    {
     "name": "stderr",
     "output_type": "stream",
     "text": [
      "QStandardPaths: XDG_RUNTIME_DIR not set, defaulting to '/tmp/runtime-jcressy'\n"
     ]
    }
   ],
   "source": [
    "coordinate_list = []\n",
    "\n",
    "for video in video_list:\n",
    "    \n",
    "    vid = pims.open(str(video))\n",
    "    first_frame = np.asarray(vid[0])\n",
    "    coords = cv2.selectROI(video.name, first_frame)\n",
    "    cv2.destroyAllWindows()\n",
    "    coordinate_list.append(coords)\n",
    "#     videofile = root + i\n",
    "#     f = pims.open(videofile)\n",
    "#     firstframe = np.asarray(f[0])\n",
    "#     coords = cv2.selectROI(i,firstframe)\n",
    "#     cv2.destroyAllWindows()\n",
    "#     coordinate_list.append(coords)"
   ]
  },
  {
   "cell_type": "code",
   "execution_count": 20,
   "id": "75bedb9f",
   "metadata": {},
   "outputs": [
    {
     "data": {
      "text/plain": [
       "[(146, 13, 575, 449), (111, 36, 336, 276), (209, 49, 515, 410)]"
      ]
     },
     "execution_count": 20,
     "metadata": {},
     "output_type": "execute_result"
    }
   ],
   "source": [
    "coordinate_list"
   ]
  },
  {
   "cell_type": "code",
   "execution_count": 29,
   "id": "7a188b7d",
   "metadata": {
    "scrolled": true
   },
   "outputs": [
    {
     "name": "stdout",
     "output_type": "stream",
     "text": [
      "/snlkt/data/Caroline/2.TRANSFERS_2OTHERS/Caroline_forJianna/practicevideos/Cage60M1-SI.mp4\n",
      "/snlkt/data/Caroline/2.TRANSFERS_2OTHERS/Caroline_forJianna/practicevideos/Cage60M1-FOMO.mp4\n",
      "/snlkt/data/Caroline/2.TRANSFERS_2OTHERS/Caroline_forJianna/practicevideos/Cage60M1-OM.mp4\n"
     ]
    }
   ],
   "source": [
    "for i in range(0,len(video_list)):\n",
    "    newvid = video.parent / str(video.stem + \"-cropped.mp4\")\n",
    "    "
   ]
  },
  {
   "cell_type": "code",
   "execution_count": null,
   "id": "226600ef",
   "metadata": {},
   "outputs": [
    {
     "name": "stdout",
     "output_type": "stream",
     "text": [
      "Moviepy - Building video /snlkt/data/Caroline/2.TRANSFERS_2OTHERS/Caroline_forJianna/practicevideos/Cage60M1-OM-cropped.mp4.\n",
      "MoviePy - Writing audio in Cage60M1-OM-croppedTEMP_MPY_wvf_snd.mp3\n"
     ]
    },
    {
     "name": "stderr",
     "output_type": "stream",
     "text": [
      "                                                                                  \r"
     ]
    },
    {
     "name": "stdout",
     "output_type": "stream",
     "text": [
      "MoviePy - Done.\n",
      "Moviepy - Writing video /snlkt/data/Caroline/2.TRANSFERS_2OTHERS/Caroline_forJianna/practicevideos/Cage60M1-OM-cropped.mp4\n",
      "\n"
     ]
    },
    {
     "name": "stderr",
     "output_type": "stream",
     "text": [
      "                                                                                  \r"
     ]
    },
    {
     "name": "stdout",
     "output_type": "stream",
     "text": [
      "Moviepy - Done !\n",
      "Moviepy - video ready /snlkt/data/Caroline/2.TRANSFERS_2OTHERS/Caroline_forJianna/practicevideos/Cage60M1-OM-cropped.mp4\n",
      "Moviepy - Building video /snlkt/data/Caroline/2.TRANSFERS_2OTHERS/Caroline_forJianna/practicevideos/Cage60M1-OM-cropped.mp4.\n",
      "MoviePy - Writing audio in Cage60M1-OM-croppedTEMP_MPY_wvf_snd.mp3\n"
     ]
    },
    {
     "name": "stderr",
     "output_type": "stream",
     "text": [
      "                                                                                                                                                                      \r"
     ]
    },
    {
     "name": "stdout",
     "output_type": "stream",
     "text": [
      "MoviePy - Done.\n",
      "Moviepy - Writing video /snlkt/data/Caroline/2.TRANSFERS_2OTHERS/Caroline_forJianna/practicevideos/Cage60M1-OM-cropped.mp4\n",
      "\n"
     ]
    },
    {
     "name": "stderr",
     "output_type": "stream",
     "text": [
      "                                                                                                                                                                      \r"
     ]
    },
    {
     "name": "stdout",
     "output_type": "stream",
     "text": [
      "Moviepy - Done !\n",
      "Moviepy - video ready /snlkt/data/Caroline/2.TRANSFERS_2OTHERS/Caroline_forJianna/practicevideos/Cage60M1-OM-cropped.mp4\n",
      "Moviepy - Building video /snlkt/data/Caroline/2.TRANSFERS_2OTHERS/Caroline_forJianna/practicevideos/Cage60M1-OM-cropped.mp4.\n",
      "MoviePy - Writing audio in Cage60M1-OM-croppedTEMP_MPY_wvf_snd.mp3\n"
     ]
    },
    {
     "name": "stderr",
     "output_type": "stream",
     "text": [
      "                                                                                                                                                                      \r"
     ]
    },
    {
     "name": "stdout",
     "output_type": "stream",
     "text": [
      "MoviePy - Done.\n",
      "Moviepy - Writing video /snlkt/data/Caroline/2.TRANSFERS_2OTHERS/Caroline_forJianna/practicevideos/Cage60M1-OM-cropped.mp4\n",
      "\n"
     ]
    },
    {
     "name": "stderr",
     "output_type": "stream",
     "text": [
      "t:  84%|██████████████████████████████████████████████████████████████████████████████████████████▊                 | 88692/105534 [04:38<01:06, 254.72it/s, now=None]"
     ]
    }
   ],
   "source": [
    "for i in range(0,len(video_list)):\n",
    "    videofile = video_list[i]\n",
    "    new_vid = video.parent / str(video.stem + \"-cropped.mp4\")\n",
    "    coords = coordinate_list[i]\n",
    "    clip = VideoFileClip(str(videofile)).crop(x1 = coords[0], y1 = coords[1], x2 = coords[2], y2 = coords[3])\n",
    "    clip.write_videofile(str(new_vid), codec=\"libx264\")\n",
    "        "
   ]
  },
  {
   "cell_type": "code",
   "execution_count": null,
   "id": "702ba374",
   "metadata": {},
   "outputs": [],
   "source": [
    "\n"
   ]
  },
  {
   "cell_type": "code",
   "execution_count": null,
   "id": "a4df8fde",
   "metadata": {},
   "outputs": [],
   "source": []
  },
  {
   "cell_type": "code",
   "execution_count": null,
   "id": "1c3f180f",
   "metadata": {},
   "outputs": [],
   "source": [
    "                                    "
   ]
  }
 ],
 "metadata": {
  "kernelspec": {
   "display_name": "Python 3 (ipykernel)",
   "language": "python",
   "name": "python3"
  },
  "language_info": {
   "codemirror_mode": {
    "name": "ipython",
    "version": 3
   },
   "file_extension": ".py",
   "mimetype": "text/x-python",
   "name": "python",
   "nbconvert_exporter": "python",
   "pygments_lexer": "ipython3",
   "version": "3.10.6"
  }
 },
 "nbformat": 4,
 "nbformat_minor": 5
}
